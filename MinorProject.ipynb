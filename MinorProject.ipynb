{
  "nbformat": 4,
  "nbformat_minor": 0,
  "metadata": {
    "colab": {
      "name": "MinorProject.ipynb",
      "provenance": [],
      "mount_file_id": "1GpAJtmw-uuWWqBxknzb_uz_K5lZ2P_TN",
      "authorship_tag": "ABX9TyM8aTrXas2XygNuO1I3JH+e",
      "include_colab_link": true
    },
    "kernelspec": {
      "name": "python3",
      "display_name": "Python 3"
    },
    "language_info": {
      "name": "python"
    }
  },
  "cells": [
    {
      "cell_type": "markdown",
      "metadata": {
        "id": "view-in-github",
        "colab_type": "text"
      },
      "source": [
        "<a href=\"https://colab.research.google.com/github/vandanavk19/Project/blob/main/MinorProject.ipynb\" target=\"_parent\"><img src=\"https://colab.research.google.com/assets/colab-badge.svg\" alt=\"Open In Colab\"/></a>"
      ]
    },
    {
      "cell_type": "code",
      "metadata": {
        "id": "v_-B4UbkT5uU"
      },
      "source": [
        ""
      ],
      "execution_count": null,
      "outputs": []
    },
    {
      "cell_type": "code",
      "metadata": {
        "id": "GqdwoQEUnjE3",
        "colab": {
          "base_uri": "https://localhost:8080/"
        },
        "outputId": "418a8058-0927-43f2-f28d-dbb6d5b4d5d0"
      },
      "source": [
        "!pip install ipython-autotime\n",
        "%load_ext autotime"
      ],
      "execution_count": 1,
      "outputs": [
        {
          "output_type": "stream",
          "text": [
            "Collecting ipython-autotime\n",
            "  Downloading https://files.pythonhosted.org/packages/b4/c9/b413a24f759641bc27ef98c144b590023c8038dfb8a3f09e713e9dff12c1/ipython_autotime-0.3.1-py2.py3-none-any.whl\n",
            "Requirement already satisfied: ipython in /usr/local/lib/python3.7/dist-packages (from ipython-autotime) (5.5.0)\n",
            "Requirement already satisfied: setuptools>=18.5 in /usr/local/lib/python3.7/dist-packages (from ipython->ipython-autotime) (56.1.0)\n",
            "Requirement already satisfied: pickleshare in /usr/local/lib/python3.7/dist-packages (from ipython->ipython-autotime) (0.7.5)\n",
            "Requirement already satisfied: prompt-toolkit<2.0.0,>=1.0.4 in /usr/local/lib/python3.7/dist-packages (from ipython->ipython-autotime) (1.0.18)\n",
            "Requirement already satisfied: simplegeneric>0.8 in /usr/local/lib/python3.7/dist-packages (from ipython->ipython-autotime) (0.8.1)\n",
            "Requirement already satisfied: decorator in /usr/local/lib/python3.7/dist-packages (from ipython->ipython-autotime) (4.4.2)\n",
            "Requirement already satisfied: pexpect; sys_platform != \"win32\" in /usr/local/lib/python3.7/dist-packages (from ipython->ipython-autotime) (4.8.0)\n",
            "Requirement already satisfied: traitlets>=4.2 in /usr/local/lib/python3.7/dist-packages (from ipython->ipython-autotime) (5.0.5)\n",
            "Requirement already satisfied: pygments in /usr/local/lib/python3.7/dist-packages (from ipython->ipython-autotime) (2.6.1)\n",
            "Requirement already satisfied: six>=1.9.0 in /usr/local/lib/python3.7/dist-packages (from prompt-toolkit<2.0.0,>=1.0.4->ipython->ipython-autotime) (1.15.0)\n",
            "Requirement already satisfied: wcwidth in /usr/local/lib/python3.7/dist-packages (from prompt-toolkit<2.0.0,>=1.0.4->ipython->ipython-autotime) (0.2.5)\n",
            "Requirement already satisfied: ptyprocess>=0.5 in /usr/local/lib/python3.7/dist-packages (from pexpect; sys_platform != \"win32\"->ipython->ipython-autotime) (0.7.0)\n",
            "Requirement already satisfied: ipython-genutils in /usr/local/lib/python3.7/dist-packages (from traitlets>=4.2->ipython->ipython-autotime) (0.2.0)\n",
            "Installing collected packages: ipython-autotime\n",
            "Successfully installed ipython-autotime-0.3.1\n",
            "time: 2.53 ms (started: 2021-05-19 11:10:53 +00:00)\n"
          ],
          "name": "stdout"
        }
      ]
    },
    {
      "cell_type": "code",
      "metadata": {
        "id": "-xfk7APCb_dD",
        "colab": {
          "base_uri": "https://localhost:8080/"
        },
        "outputId": "5fae515e-b216-4e58-a496-0a03e6b568c5"
      },
      "source": [
        "import os\n",
        "import numpy as np\n",
        "\n",
        "import matplotlib.pyplot as plt\n",
        "from skimage.io import imread\n",
        "from skimage.transform import resize\n",
        " \n",
        "target = []\n",
        "images=[]\n",
        "flat_data = []\n",
        "\n",
        "datadir ='/content/drive/MyDrive/MinorProject/Images'\n",
        "\n",
        "categories = ['Carrot','Spinach','Tomato']\n",
        "\n",
        "for i in categories:\n",
        "  class_num=categories.index(i)\n",
        "  path = os.path.join(datadir,i)\n",
        "  for img in os.listdir(path):\n",
        "      img_array = imread(os.path.join(path,img))\n",
        "      img_resized = resize(img_array,(150,150,3)) \n",
        "      flat_data.append(img_resized.flatten())\n",
        "      images.append(img_resized)\n",
        "      target.append(class_num)\n",
        "flat_data = np.array(flat_data)\n",
        "target = np.array(target)\n",
        "images=np.array(images)\n",
        "      "
      ],
      "execution_count": 2,
      "outputs": [
        {
          "output_type": "stream",
          "text": [
            "time: 48.9 s (started: 2021-05-19 11:10:53 +00:00)\n"
          ],
          "name": "stdout"
        }
      ]
    },
    {
      "cell_type": "code",
      "metadata": {
        "id": "6QwE22tLcQ5h",
        "colab": {
          "base_uri": "https://localhost:8080/"
        },
        "outputId": "f667c67f-a3ab-43ef-c60f-7f3a8f286f3f"
      },
      "source": [
        "# Splitting the data\n",
        "from sklearn.model_selection import train_test_split\n",
        "x_train,x_test,y_train,y_test = train_test_split(flat_data,target,test_size=0.3,random_state=100)"
      ],
      "execution_count": 3,
      "outputs": [
        {
          "output_type": "stream",
          "text": [
            "time: 206 ms (started: 2021-05-19 11:11:42 +00:00)\n"
          ],
          "name": "stdout"
        }
      ]
    },
    {
      "cell_type": "code",
      "metadata": {
        "id": "KWsEKSmtcd5a",
        "colab": {
          "base_uri": "https://localhost:8080/"
        },
        "outputId": "22d9f7aa-2470-4237-daf3-1bed9ce8a892"
      },
      "source": [
        "from sklearn.model_selection import GridSearchCV\n",
        "from sklearn import svm\n",
        "param_grid = [{'C':[1,10,100,1000],'kernel':['linear']},\n",
        "              {'C':[1,10,100,1000],'gamma':[0.001,0.0001],'kernel':['rbf']},]\n",
        "svc=svm.SVC(probability=True)\n",
        "clf=GridSearchCV(svc,param_grid)\n",
        "clf.fit(x_train,y_train)"
      ],
      "execution_count": 4,
      "outputs": [
        {
          "output_type": "execute_result",
          "data": {
            "text/plain": [
              "GridSearchCV(cv=None, error_score=nan,\n",
              "             estimator=SVC(C=1.0, break_ties=False, cache_size=200,\n",
              "                           class_weight=None, coef0=0.0,\n",
              "                           decision_function_shape='ovr', degree=3,\n",
              "                           gamma='scale', kernel='rbf', max_iter=-1,\n",
              "                           probability=True, random_state=None, shrinking=True,\n",
              "                           tol=0.001, verbose=False),\n",
              "             iid='deprecated', n_jobs=None,\n",
              "             param_grid=[{'C': [1, 10, 100, 1000], 'kernel': ['linear']},\n",
              "                         {'C': [1, 10, 100, 1000], 'gamma': [0.001, 0.0001],\n",
              "                          'kernel': ['rbf']}],\n",
              "             pre_dispatch='2*n_jobs', refit=True, return_train_score=False,\n",
              "             scoring=None, verbose=0)"
            ]
          },
          "metadata": {
            "tags": []
          },
          "execution_count": 4
        },
        {
          "output_type": "stream",
          "text": [
            "time: 2min 6s (started: 2021-05-19 11:11:42 +00:00)\n"
          ],
          "name": "stdout"
        }
      ]
    },
    {
      "cell_type": "code",
      "metadata": {
        "id": "eEl6fOkRf_pE",
        "colab": {
          "base_uri": "https://localhost:8080/"
        },
        "outputId": "894d1c64-0435-41b7-aedb-b123e0cd8982"
      },
      "source": [
        "y_pred=clf.predict(x_test)\n",
        "y_pred"
      ],
      "execution_count": 5,
      "outputs": [
        {
          "output_type": "execute_result",
          "data": {
            "text/plain": [
              "array([1, 2, 1, 0, 1, 1, 1, 1, 2, 0, 0, 1, 0, 2, 2, 2, 1, 0, 0, 2, 0, 0,\n",
              "       0, 2, 1, 2, 0])"
            ]
          },
          "metadata": {
            "tags": []
          },
          "execution_count": 5
        },
        {
          "output_type": "stream",
          "text": [
            "time: 199 ms (started: 2021-05-19 11:13:49 +00:00)\n"
          ],
          "name": "stdout"
        }
      ]
    },
    {
      "cell_type": "markdown",
      "metadata": {
        "id": "h12jvyWklGy8"
      },
      "source": [
        ""
      ]
    },
    {
      "cell_type": "code",
      "metadata": {
        "id": "21ZCthvDmiex",
        "colab": {
          "base_uri": "https://localhost:8080/"
        },
        "outputId": "3cbb351d-84b5-40bc-9c7d-d0afcf27a364"
      },
      "source": [
        "y_test"
      ],
      "execution_count": 6,
      "outputs": [
        {
          "output_type": "execute_result",
          "data": {
            "text/plain": [
              "array([1, 2, 0, 0, 1, 1, 1, 1, 0, 2, 0, 1, 0, 2, 0, 2, 1, 2, 2, 2, 0, 0,\n",
              "       0, 0, 1, 0, 0])"
            ]
          },
          "metadata": {
            "tags": []
          },
          "execution_count": 6
        },
        {
          "output_type": "stream",
          "text": [
            "time: 4.05 ms (started: 2021-05-19 11:13:49 +00:00)\n"
          ],
          "name": "stdout"
        }
      ]
    },
    {
      "cell_type": "code",
      "metadata": {
        "id": "GMcRlYlw9TzB",
        "colab": {
          "base_uri": "https://localhost:8080/"
        },
        "outputId": "90e7da02-bbf5-4b07-b2d5-2734e836692b"
      },
      "source": [
        "from sklearn.metrics import confusion_matrix,accuracy_score,classification_report"
      ],
      "execution_count": 7,
      "outputs": [
        {
          "output_type": "stream",
          "text": [
            "time: 1.75 ms (started: 2021-05-19 11:13:49 +00:00)\n"
          ],
          "name": "stdout"
        }
      ]
    },
    {
      "cell_type": "code",
      "metadata": {
        "id": "Wz-YQleo9hAk",
        "colab": {
          "base_uri": "https://localhost:8080/"
        },
        "outputId": "07cf6cb5-fed5-4a29-da57-e6eb989db665"
      },
      "source": [
        "accuracy_score(y_pred,y_test)"
      ],
      "execution_count": 8,
      "outputs": [
        {
          "output_type": "execute_result",
          "data": {
            "text/plain": [
              "0.7037037037037037"
            ]
          },
          "metadata": {
            "tags": []
          },
          "execution_count": 8
        },
        {
          "output_type": "stream",
          "text": [
            "time: 5.56 ms (started: 2021-05-19 11:13:49 +00:00)\n"
          ],
          "name": "stdout"
        }
      ]
    },
    {
      "cell_type": "code",
      "metadata": {
        "id": "3QNqt8p09m8w",
        "colab": {
          "base_uri": "https://localhost:8080/"
        },
        "outputId": "db4d6222-6495-4dd5-aa4e-816549c4391c"
      },
      "source": [
        "confusion_matrix(y_pred,y_test)"
      ],
      "execution_count": 9,
      "outputs": [
        {
          "output_type": "execute_result",
          "data": {
            "text/plain": [
              "array([[7, 0, 3],\n",
              "       [1, 8, 0],\n",
              "       [4, 0, 4]])"
            ]
          },
          "metadata": {
            "tags": []
          },
          "execution_count": 9
        },
        {
          "output_type": "stream",
          "text": [
            "time: 6.77 ms (started: 2021-05-19 11:13:49 +00:00)\n"
          ],
          "name": "stdout"
        }
      ]
    },
    {
      "cell_type": "code",
      "metadata": {
        "id": "tSrXy4PhIfk1",
        "colab": {
          "base_uri": "https://localhost:8080/"
        },
        "outputId": "51dae3a3-f882-4ff0-9efe-35123f2e3837"
      },
      "source": [
        "import pickle\n",
        "pickle.dump(clf,open('img_model.p','wb'))"
      ],
      "execution_count": 10,
      "outputs": [
        {
          "output_type": "stream",
          "text": [
            "time: 92.1 ms (started: 2021-05-19 11:13:49 +00:00)\n"
          ],
          "name": "stdout"
        }
      ]
    },
    {
      "cell_type": "code",
      "metadata": {
        "id": "p7GdYKyAJOnx",
        "colab": {
          "base_uri": "https://localhost:8080/"
        },
        "outputId": "769db5cc-792d-47d1-c11a-2341788143e4"
      },
      "source": [
        "model=pickle.load(open('img_model.p','rb'))"
      ],
      "execution_count": 11,
      "outputs": [
        {
          "output_type": "stream",
          "text": [
            "time: 26.2 ms (started: 2021-05-19 11:13:49 +00:00)\n"
          ],
          "name": "stdout"
        }
      ]
    },
    {
      "cell_type": "code",
      "metadata": {
        "id": "fWpLb1nIgdLJ",
        "colab": {
          "base_uri": "https://localhost:8080/"
        },
        "outputId": "d35b219c-7dfb-4699-fce4-e05f9e702c19"
      },
      "source": [
        "flat_data=[]\n",
        "url = input('Enter url')\n",
        "img = imread(url)\n",
        "img_resized=resize(img,(150,150,3))\n",
        "flat_data.append(img_resized.flatten())\n",
        "flat_data=np.array(flat_data)\n",
        "print(img.shape)\n",
        "y_out=model.predict(flat_data)\n",
        "y_out=categories[y_out[0]]\n",
        "print(f'PREDICTED OUTPUT: {y_out}')"
      ],
      "execution_count": 12,
      "outputs": [
        {
          "output_type": "stream",
          "text": [
            "Enter urlhttps://www.lima-europe.eu/wp-content/uploads/2017/02/shutterstock_102675152.jpg\n",
            "(4134, 4134, 3)\n",
            "PREDICTED OUTPUT: Tomato\n",
            "time: 1min 6s (started: 2021-05-19 11:13:49 +00:00)\n"
          ],
          "name": "stdout"
        }
      ]
    },
    {
      "cell_type": "code",
      "metadata": {
        "id": "70Y2eEeicmRO",
        "colab": {
          "base_uri": "https://localhost:8080/"
        },
        "outputId": "25997fde-85ce-440b-9fa2-2bec5a0d30c7"
      },
      "source": [
        "!pip install streamlit --quiet\n",
        "!pip install pyngrok==4.1.1 --quiet\n",
        "from pyngrok import ngrok"
      ],
      "execution_count": 13,
      "outputs": [
        {
          "output_type": "stream",
          "text": [
            "\u001b[K     |████████████████████████████████| 8.2MB 2.7MB/s \n",
            "\u001b[K     |████████████████████████████████| 81kB 8.3MB/s \n",
            "\u001b[K     |████████████████████████████████| 92kB 8.5MB/s \n",
            "\u001b[K     |████████████████████████████████| 112kB 45.3MB/s \n",
            "\u001b[K     |████████████████████████████████| 4.2MB 37.2MB/s \n",
            "\u001b[K     |████████████████████████████████| 174kB 44.6MB/s \n",
            "\u001b[K     |████████████████████████████████| 122kB 45.0MB/s \n",
            "\u001b[K     |████████████████████████████████| 71kB 7.9MB/s \n",
            "\u001b[?25h  Building wheel for blinker (setup.py) ... \u001b[?25l\u001b[?25hdone\n",
            "\u001b[31mERROR: google-colab 1.0.0 has requirement ipykernel~=4.10, but you'll have ipykernel 5.5.5 which is incompatible.\u001b[0m\n",
            "  Building wheel for pyngrok (setup.py) ... \u001b[?25l\u001b[?25hdone\n",
            "time: 19.1 s (started: 2021-05-19 11:14:56 +00:00)\n"
          ],
          "name": "stdout"
        }
      ]
    },
    {
      "cell_type": "code",
      "metadata": {
        "id": "PHrBAZMofVHk",
        "colab": {
          "base_uri": "https://localhost:8080/"
        },
        "outputId": "fdada2d5-44e7-4340-afb1-02416ec691db"
      },
      "source": [
        "%%writefile App.py\n",
        "import streamlit as st\n",
        "import numpy as np\n",
        "from skimage.io import imread\n",
        "from skimage.transform import resize\n",
        "import pickle\n",
        "from PIL import Image\n",
        "st.title('Image Classifisication  using machine learning')\n",
        "st.text('Upload the image ')\n",
        "model=pickle.load(open('img_model.p','rb'))\n",
        "uploaded_file=st.file_uploader(\"Choose an image....\",type='jpg')\n",
        "if uploaded_file is not None:\n",
        "  img=Image.open(uploaded_file)\n",
        "  st.image(img,caption='Uploaded Image')\n",
        "  if st.button('PREDICT'):\n",
        "    categories = ['Carrot','Spinach','Tomato']\n",
        "    st.write('Result.....')\n",
        "    flat_data=[]\n",
        "    img =np.array(img)\n",
        "    img_resized=resize(img,(150,150,3))\n",
        "    flat_data.append(img_resized.flatten())\n",
        "    flat_data=np.array(flat_data)\n",
        "    y_out=model.predict(flat_data)\n",
        "    y_out=categories[y_out[0]]\n",
        "    st.title(f'PREDICTED OUTPUT: {y_out}')"
      ],
      "execution_count": 14,
      "outputs": [
        {
          "output_type": "stream",
          "text": [
            "Writing App.py\n",
            "time: 4.94 ms (started: 2021-05-19 11:15:15 +00:00)\n"
          ],
          "name": "stdout"
        }
      ]
    },
    {
      "cell_type": "code",
      "metadata": {
        "id": "qTLtyzEzh_HN",
        "colab": {
          "base_uri": "https://localhost:8080/",
          "height": 52
        },
        "outputId": "d4610592-c160-401e-9f14-b631fa171124"
      },
      "source": [
        "!nohup streamlit run App.py &\n",
        "url=ngrok.connect(port='8501')\n",
        "url\n"
      ],
      "execution_count": 15,
      "outputs": [
        {
          "output_type": "stream",
          "text": [
            "nohup: appending output to 'nohup.out'\n"
          ],
          "name": "stdout"
        },
        {
          "output_type": "execute_result",
          "data": {
            "application/vnd.google.colaboratory.intrinsic+json": {
              "type": "string"
            },
            "text/plain": [
              "'http://a095d607976d.ngrok.io'"
            ]
          },
          "metadata": {
            "tags": []
          },
          "execution_count": 15
        },
        {
          "output_type": "stream",
          "text": [
            "time: 1.69 s (started: 2021-05-19 11:15:15 +00:00)\n"
          ],
          "name": "stdout"
        }
      ]
    },
    {
      "cell_type": "code",
      "metadata": {
        "id": "8mBnnyigi5p7"
      },
      "source": [
        ""
      ],
      "execution_count": 15,
      "outputs": []
    }
  ]
}